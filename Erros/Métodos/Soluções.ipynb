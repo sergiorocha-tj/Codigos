{
  "nbformat": 4,
  "nbformat_minor": 0,
  "metadata": {
    "colab": {
      "name": "Untitled18.ipynb",
      "provenance": [],
      "toc_visible": true,
      "authorship_tag": "ABX9TyNTwaU51vZkVRHYtYHZqVGZ",
      "include_colab_link": true
    },
    "kernelspec": {
      "name": "python3",
      "display_name": "Python 3"
    },
    "language_info": {
      "name": "python"
    }
  },
  "cells": [
    {
      "cell_type": "markdown",
      "metadata": {
        "id": "view-in-github",
        "colab_type": "text"
      },
      "source": [
        "<a href=\"https://colab.research.google.com/github/sergiorocha-tj/Codigos/blob/main/Erros/M%C3%A9todos/Solu%C3%A7%C3%B5es.ipynb\" target=\"_parent\"><img src=\"https://colab.research.google.com/assets/colab-badge.svg\" alt=\"Open In Colab\"/></a>"
      ]
    },
    {
      "cell_type": "code",
      "execution_count": 4,
      "metadata": {
        "id": "WsrBOsTGYnKD"
      },
      "outputs": [],
      "source": [
        "import pandas as pd"
      ]
    },
    {
      "cell_type": "markdown",
      "source": [
        "# **Problemas de Importação - UTF-8**\n",
        "**ERRO** Ao ler um arquivo, com a informação de erro de codificação **UTF-8**. No meu caso, a importação era de um arquivo **ANSI**.\n",
        "\n",
        "O link do vídeo trás mais informações:\n",
        "https://www.youtube.com/watch?v=xhqLNNJoOms\n",
        "\n",
        "E o link abaixo trás algumas sugestõe de pode ser resolvido o problema.\n",
        "https://stackoverflow.com/questions/18039057/python-pandas-error-tokenizing-data\n",
        "\n",
        " Achei interessante a menção da Biblioteca **chardet**, que possui codec's para tratar problemas de formação de texto."
      ],
      "metadata": {
        "id": "3om8tHjjD48G"
      }
    },
    {
      "cell_type": "code",
      "source": [
        "df = pd.read_csv(\"/content/TA_PRECO_MEDICAMENTO.csv\", encoding=\"ISO-8859-1\", sep=\";\") "
      ],
      "metadata": {
        "id": "kIcqO9m097lK"
      },
      "execution_count": 5,
      "outputs": []
    },
    {
      "cell_type": "code",
      "source": [
        "df.head()"
      ],
      "metadata": {
        "colab": {
          "base_uri": "https://localhost:8080/",
          "height": 547
        },
        "id": "jFLLRjoJDk6G",
        "outputId": "953a4f7a-6d18-4d75-8610-ac6e7d996776"
      },
      "execution_count": 6,
      "outputs": [
        {
          "output_type": "execute_result",
          "data": {
            "text/html": [
              "\n",
              "  <div id=\"df-3293218e-80b5-45e9-8d4a-01df1b5cdc6d\">\n",
              "    <div class=\"colab-df-container\">\n",
              "      <div>\n",
              "<style scoped>\n",
              "    .dataframe tbody tr th:only-of-type {\n",
              "        vertical-align: middle;\n",
              "    }\n",
              "\n",
              "    .dataframe tbody tr th {\n",
              "        vertical-align: top;\n",
              "    }\n",
              "\n",
              "    .dataframe thead th {\n",
              "        text-align: right;\n",
              "    }\n",
              "</style>\n",
              "<table border=\"1\" class=\"dataframe\">\n",
              "  <thead>\n",
              "    <tr style=\"text-align: right;\">\n",
              "      <th></th>\n",
              "      <th>SUBSTÂNCIA</th>\n",
              "      <th>CNPJ</th>\n",
              "      <th>LABORATÓRIO</th>\n",
              "      <th>CÓDIGO GGREM</th>\n",
              "      <th>REGISTRO</th>\n",
              "      <th>EAN 1</th>\n",
              "      <th>EAN 2</th>\n",
              "      <th>EAN 3</th>\n",
              "      <th>PRODUTO</th>\n",
              "      <th>APRESENTAÇÃO</th>\n",
              "      <th>CLASSE TERAPÊUTICA</th>\n",
              "      <th>TIPO DE PRODUTO (STATUS DO PRODUTO)</th>\n",
              "      <th>REGIME DE PREÇO</th>\n",
              "      <th>PF Sem Impostos</th>\n",
              "      <th>PF 0%</th>\n",
              "      <th>PF 12%</th>\n",
              "      <th>PF 17%</th>\n",
              "      <th>PF 17% ALC</th>\n",
              "      <th>PF 17,5%</th>\n",
              "      <th>PF 17,5% ALC</th>\n",
              "      <th>PF 18%</th>\n",
              "      <th>PF 18% ALC</th>\n",
              "      <th>PF 20%</th>\n",
              "      <th>PMC 0%</th>\n",
              "      <th>PMC 12%</th>\n",
              "      <th>PMC 17%</th>\n",
              "      <th>PMC 17% ALC</th>\n",
              "      <th>PMC 17,5%</th>\n",
              "      <th>PMC 17,5% ALC</th>\n",
              "      <th>PMC 18%</th>\n",
              "      <th>PMC 18% ALC</th>\n",
              "      <th>PMC 20%</th>\n",
              "      <th>RESTRIÇÃO HOSPITALAR</th>\n",
              "      <th>CAP</th>\n",
              "      <th>CONFAZ 87</th>\n",
              "      <th>ICMS 0%</th>\n",
              "      <th>ANÁLISE RECURSAL</th>\n",
              "      <th>LISTA DE CONCESSÃO DE CRÉDITO TRIBUTÁRIO (PIS/COFINS)</th>\n",
              "      <th>COMERCIALIZAÇÃO 2020</th>\n",
              "      <th>TARJA</th>\n",
              "    </tr>\n",
              "  </thead>\n",
              "  <tbody>\n",
              "    <tr>\n",
              "      <th>0</th>\n",
              "      <td>SALICILATO DE FENILA;ÁCIDO SALICÍLICO;ÓXIDO DE...</td>\n",
              "      <td>33.379.884/0001-96</td>\n",
              "      <td>LABORATORIO SIMOES LTDA.</td>\n",
              "      <td>5.205009e+14</td>\n",
              "      <td>5.760051e+10</td>\n",
              "      <td>7896210500354</td>\n",
              "      <td>-</td>\n",
              "      <td>-</td>\n",
              "      <td>TALCO ALÍVIO</td>\n",
              "      <td>TALQUEIRA C/ 100 G</td>\n",
              "      <td>D10A - ANTIACNEICOS TÓPICOS</td>\n",
              "      <td>Similar</td>\n",
              "      <td>Regulado</td>\n",
              "      <td>5,04</td>\n",
              "      <td>5,65</td>\n",
              "      <td>6,53</td>\n",
              "      <td>6,98</td>\n",
              "      <td>6,08</td>\n",
              "      <td>7,03</td>\n",
              "      <td>6,11</td>\n",
              "      <td>7,08</td>\n",
              "      <td>6,15</td>\n",
              "      <td>7,29</td>\n",
              "      <td>7,58</td>\n",
              "      <td>8,72</td>\n",
              "      <td>9,30</td>\n",
              "      <td>8,41</td>\n",
              "      <td>9,37</td>\n",
              "      <td>8,45</td>\n",
              "      <td>9,43</td>\n",
              "      <td>8,50</td>\n",
              "      <td>9,70</td>\n",
              "      <td>Não</td>\n",
              "      <td>Não</td>\n",
              "      <td>Não</td>\n",
              "      <td>Não</td>\n",
              "      <td>NaN</td>\n",
              "      <td>Negativa</td>\n",
              "      <td>Não</td>\n",
              "      <td>Tarja -(*)</td>\n",
              "    </tr>\n",
              "    <tr>\n",
              "      <th>1</th>\n",
              "      <td>DIENOGESTE;VALERATO DE ESTRADIOL</td>\n",
              "      <td>56.990.534/0001-67</td>\n",
              "      <td>SCHERING DO BRASIL QUÍMICA E FARMACÊUTICA LTDA</td>\n",
              "      <td>5.309171e+14</td>\n",
              "      <td>1.002001e+12</td>\n",
              "      <td>7896116871497</td>\n",
              "      <td>-</td>\n",
              "      <td>-</td>\n",
              "      <td>CHARMELIE</td>\n",
              "      <td>COM REV A + COM REV B + COM REV C + COM REV D ...</td>\n",
              "      <td>G3A4 - PREPARAÇÕES CONTRACEPTIVAS TRIFÁSICAS</td>\n",
              "      <td>Similar</td>\n",
              "      <td>Regulado</td>\n",
              "      <td>96,83</td>\n",
              "      <td>108,45</td>\n",
              "      <td>125,32</td>\n",
              "      <td>134,01</td>\n",
              "      <td>116,66</td>\n",
              "      <td>134,95</td>\n",
              "      <td>117,37</td>\n",
              "      <td>135,90</td>\n",
              "      <td>118,09</td>\n",
              "      <td>139,83</td>\n",
              "      <td>145,48</td>\n",
              "      <td>167,40</td>\n",
              "      <td>178,63</td>\n",
              "      <td>161,28</td>\n",
              "      <td>179,84</td>\n",
              "      <td>162,26</td>\n",
              "      <td>181,06</td>\n",
              "      <td>163,25</td>\n",
              "      <td>186,12</td>\n",
              "      <td>Não</td>\n",
              "      <td>Não</td>\n",
              "      <td>Não</td>\n",
              "      <td>Não</td>\n",
              "      <td>NaN</td>\n",
              "      <td>Negativa</td>\n",
              "      <td>Não</td>\n",
              "      <td>Tarja Vermelha(*)</td>\n",
              "    </tr>\n",
              "    <tr>\n",
              "      <th>2</th>\n",
              "      <td>HIDROCLOROTIAZIDA;MALEATO DE ENALAPRIL</td>\n",
              "      <td>45.987.013/0001-34</td>\n",
              "      <td>ORGANON FARMACÊUTICA LTDA.</td>\n",
              "      <td>5.255004e+14</td>\n",
              "      <td>1.002900e+12</td>\n",
              "      <td>7897337705905</td>\n",
              "      <td>-</td>\n",
              "      <td>-</td>\n",
              "      <td>CO-RENITEC</td>\n",
              "      <td>20 MG + 12,5 MG COM CT BL AL/AL X 30</td>\n",
              "      <td>C9B1 - INIBIDORES DA ECA ASSOCIADOS A ANTI-HIP...</td>\n",
              "      <td>Novo</td>\n",
              "      <td>Regulado</td>\n",
              "      <td>43,76</td>\n",
              "      <td>43,76</td>\n",
              "      <td>49,73</td>\n",
              "      <td>52,72</td>\n",
              "      <td>52,72</td>\n",
              "      <td>53,04</td>\n",
              "      <td>53,04</td>\n",
              "      <td>53,37</td>\n",
              "      <td>53,37</td>\n",
              "      <td>54,70</td>\n",
              "      <td>60,50</td>\n",
              "      <td>68,75</td>\n",
              "      <td>72,88</td>\n",
              "      <td>72,88</td>\n",
              "      <td>73,32</td>\n",
              "      <td>73,32</td>\n",
              "      <td>73,78</td>\n",
              "      <td>73,78</td>\n",
              "      <td>75,62</td>\n",
              "      <td>Não</td>\n",
              "      <td>Não</td>\n",
              "      <td>Não</td>\n",
              "      <td>Não</td>\n",
              "      <td>NaN</td>\n",
              "      <td>Positiva</td>\n",
              "      <td>Não</td>\n",
              "      <td>Tarja  Vermelha</td>\n",
              "    </tr>\n",
              "    <tr>\n",
              "      <th>3</th>\n",
              "      <td>HIDROCLOROTIAZIDA;MALEATO DE ENALAPRIL</td>\n",
              "      <td>45.987.013/0001-34</td>\n",
              "      <td>ORGANON FARMACÊUTICA LTDA.</td>\n",
              "      <td>5.255004e+14</td>\n",
              "      <td>1.002900e+12</td>\n",
              "      <td>7897337705912</td>\n",
              "      <td>-</td>\n",
              "      <td>-</td>\n",
              "      <td>CO-RENITEC</td>\n",
              "      <td>10 MG + 25 MG COM CT BL AL/AL X 30</td>\n",
              "      <td>C9B1 - INIBIDORES DA ECA ASSOCIADOS A ANTI-HIP...</td>\n",
              "      <td>Novo</td>\n",
              "      <td>Regulado</td>\n",
              "      <td>28,74</td>\n",
              "      <td>28,74</td>\n",
              "      <td>32,66</td>\n",
              "      <td>34,63</td>\n",
              "      <td>34,63</td>\n",
              "      <td>34,84</td>\n",
              "      <td>34,84</td>\n",
              "      <td>35,05</td>\n",
              "      <td>35,05</td>\n",
              "      <td>35,93</td>\n",
              "      <td>39,73</td>\n",
              "      <td>45,15</td>\n",
              "      <td>47,87</td>\n",
              "      <td>47,87</td>\n",
              "      <td>48,16</td>\n",
              "      <td>48,16</td>\n",
              "      <td>48,45</td>\n",
              "      <td>48,45</td>\n",
              "      <td>49,67</td>\n",
              "      <td>Não</td>\n",
              "      <td>Não</td>\n",
              "      <td>Não</td>\n",
              "      <td>Não</td>\n",
              "      <td>NaN</td>\n",
              "      <td>Positiva</td>\n",
              "      <td>Não</td>\n",
              "      <td>Tarja  Vermelha</td>\n",
              "    </tr>\n",
              "    <tr>\n",
              "      <th>4</th>\n",
              "      <td>MONTELUCASTE</td>\n",
              "      <td>45.987.013/0001-34</td>\n",
              "      <td>ORGANON FARMACÊUTICA LTDA.</td>\n",
              "      <td>5.255020e+14</td>\n",
              "      <td>1.002900e+12</td>\n",
              "      <td>7897337706575</td>\n",
              "      <td>-</td>\n",
              "      <td>-</td>\n",
              "      <td>SINGULAIR</td>\n",
              "      <td>5 MG COM MAST CT 3 BL AL PLAS INC X 10</td>\n",
              "      <td>R3J2 - ANTIASMÁTICOS/DPOC ANTILEUCOTRIENOS SIS...</td>\n",
              "      <td>Novo</td>\n",
              "      <td>Regulado</td>\n",
              "      <td>44,67</td>\n",
              "      <td>44,67</td>\n",
              "      <td>50,76</td>\n",
              "      <td>53,82</td>\n",
              "      <td>53,82</td>\n",
              "      <td>54,15</td>\n",
              "      <td>54,15</td>\n",
              "      <td>54,48</td>\n",
              "      <td>54,48</td>\n",
              "      <td>55,84</td>\n",
              "      <td>61,75</td>\n",
              "      <td>70,17</td>\n",
              "      <td>74,40</td>\n",
              "      <td>74,40</td>\n",
              "      <td>74,86</td>\n",
              "      <td>74,86</td>\n",
              "      <td>75,32</td>\n",
              "      <td>75,32</td>\n",
              "      <td>77,20</td>\n",
              "      <td>Não</td>\n",
              "      <td>Não</td>\n",
              "      <td>Não</td>\n",
              "      <td>Não</td>\n",
              "      <td>NaN</td>\n",
              "      <td>Positiva</td>\n",
              "      <td>Sim</td>\n",
              "      <td>Tarja  Vermelha</td>\n",
              "    </tr>\n",
              "  </tbody>\n",
              "</table>\n",
              "</div>\n",
              "      <button class=\"colab-df-convert\" onclick=\"convertToInteractive('df-3293218e-80b5-45e9-8d4a-01df1b5cdc6d')\"\n",
              "              title=\"Convert this dataframe to an interactive table.\"\n",
              "              style=\"display:none;\">\n",
              "        \n",
              "  <svg xmlns=\"http://www.w3.org/2000/svg\" height=\"24px\"viewBox=\"0 0 24 24\"\n",
              "       width=\"24px\">\n",
              "    <path d=\"M0 0h24v24H0V0z\" fill=\"none\"/>\n",
              "    <path d=\"M18.56 5.44l.94 2.06.94-2.06 2.06-.94-2.06-.94-.94-2.06-.94 2.06-2.06.94zm-11 1L8.5 8.5l.94-2.06 2.06-.94-2.06-.94L8.5 2.5l-.94 2.06-2.06.94zm10 10l.94 2.06.94-2.06 2.06-.94-2.06-.94-.94-2.06-.94 2.06-2.06.94z\"/><path d=\"M17.41 7.96l-1.37-1.37c-.4-.4-.92-.59-1.43-.59-.52 0-1.04.2-1.43.59L10.3 9.45l-7.72 7.72c-.78.78-.78 2.05 0 2.83L4 21.41c.39.39.9.59 1.41.59.51 0 1.02-.2 1.41-.59l7.78-7.78 2.81-2.81c.8-.78.8-2.07 0-2.86zM5.41 20L4 18.59l7.72-7.72 1.47 1.35L5.41 20z\"/>\n",
              "  </svg>\n",
              "      </button>\n",
              "      \n",
              "  <style>\n",
              "    .colab-df-container {\n",
              "      display:flex;\n",
              "      flex-wrap:wrap;\n",
              "      gap: 12px;\n",
              "    }\n",
              "\n",
              "    .colab-df-convert {\n",
              "      background-color: #E8F0FE;\n",
              "      border: none;\n",
              "      border-radius: 50%;\n",
              "      cursor: pointer;\n",
              "      display: none;\n",
              "      fill: #1967D2;\n",
              "      height: 32px;\n",
              "      padding: 0 0 0 0;\n",
              "      width: 32px;\n",
              "    }\n",
              "\n",
              "    .colab-df-convert:hover {\n",
              "      background-color: #E2EBFA;\n",
              "      box-shadow: 0px 1px 2px rgba(60, 64, 67, 0.3), 0px 1px 3px 1px rgba(60, 64, 67, 0.15);\n",
              "      fill: #174EA6;\n",
              "    }\n",
              "\n",
              "    [theme=dark] .colab-df-convert {\n",
              "      background-color: #3B4455;\n",
              "      fill: #D2E3FC;\n",
              "    }\n",
              "\n",
              "    [theme=dark] .colab-df-convert:hover {\n",
              "      background-color: #434B5C;\n",
              "      box-shadow: 0px 1px 3px 1px rgba(0, 0, 0, 0.15);\n",
              "      filter: drop-shadow(0px 1px 2px rgba(0, 0, 0, 0.3));\n",
              "      fill: #FFFFFF;\n",
              "    }\n",
              "  </style>\n",
              "\n",
              "      <script>\n",
              "        const buttonEl =\n",
              "          document.querySelector('#df-3293218e-80b5-45e9-8d4a-01df1b5cdc6d button.colab-df-convert');\n",
              "        buttonEl.style.display =\n",
              "          google.colab.kernel.accessAllowed ? 'block' : 'none';\n",
              "\n",
              "        async function convertToInteractive(key) {\n",
              "          const element = document.querySelector('#df-3293218e-80b5-45e9-8d4a-01df1b5cdc6d');\n",
              "          const dataTable =\n",
              "            await google.colab.kernel.invokeFunction('convertToInteractive',\n",
              "                                                     [key], {});\n",
              "          if (!dataTable) return;\n",
              "\n",
              "          const docLinkHtml = 'Like what you see? Visit the ' +\n",
              "            '<a target=\"_blank\" href=https://colab.research.google.com/notebooks/data_table.ipynb>data table notebook</a>'\n",
              "            + ' to learn more about interactive tables.';\n",
              "          element.innerHTML = '';\n",
              "          dataTable['output_type'] = 'display_data';\n",
              "          await google.colab.output.renderOutput(dataTable, element);\n",
              "          const docLink = document.createElement('div');\n",
              "          docLink.innerHTML = docLinkHtml;\n",
              "          element.appendChild(docLink);\n",
              "        }\n",
              "      </script>\n",
              "    </div>\n",
              "  </div>\n",
              "  "
            ],
            "text/plain": [
              "                                          SUBSTÂNCIA  ...              TARJA\n",
              "0  SALICILATO DE FENILA;ÁCIDO SALICÍLICO;ÓXIDO DE...  ...         Tarja -(*)\n",
              "1                   DIENOGESTE;VALERATO DE ESTRADIOL  ...  Tarja Vermelha(*)\n",
              "2             HIDROCLOROTIAZIDA;MALEATO DE ENALAPRIL  ...    Tarja  Vermelha\n",
              "3             HIDROCLOROTIAZIDA;MALEATO DE ENALAPRIL  ...    Tarja  Vermelha\n",
              "4                                       MONTELUCASTE  ...    Tarja  Vermelha\n",
              "\n",
              "[5 rows x 40 columns]"
            ]
          },
          "metadata": {},
          "execution_count": 6
        }
      ]
    },
    {
      "cell_type": "code",
      "source": [
        "df.columns"
      ],
      "metadata": {
        "colab": {
          "base_uri": "https://localhost:8080/"
        },
        "id": "FJjRTg4_DmwP",
        "outputId": "dd8f6457-ca14-425a-e89a-274f35d1430f"
      },
      "execution_count": 7,
      "outputs": [
        {
          "output_type": "execute_result",
          "data": {
            "text/plain": [
              "Index(['SUBSTÂNCIA', 'CNPJ', 'LABORATÓRIO', 'CÓDIGO GGREM', 'REGISTRO',\n",
              "       'EAN 1', 'EAN 2', 'EAN 3', 'PRODUTO', 'APRESENTAÇÃO',\n",
              "       'CLASSE TERAPÊUTICA', 'TIPO DE PRODUTO (STATUS DO PRODUTO)',\n",
              "       'REGIME DE PREÇO', 'PF Sem Impostos', 'PF 0%', 'PF 12%', 'PF 17%',\n",
              "       'PF 17% ALC', 'PF 17,5%', 'PF 17,5% ALC', 'PF 18%', 'PF 18% ALC',\n",
              "       'PF 20%', 'PMC 0%', 'PMC 12%', 'PMC 17%', 'PMC 17% ALC', 'PMC 17,5%',\n",
              "       'PMC 17,5% ALC', 'PMC 18%', 'PMC 18% ALC', 'PMC 20%',\n",
              "       'RESTRIÇÃO HOSPITALAR', 'CAP', 'CONFAZ 87', 'ICMS 0%',\n",
              "       'ANÁLISE RECURSAL',\n",
              "       'LISTA DE CONCESSÃO DE CRÉDITO TRIBUTÁRIO (PIS/COFINS)',\n",
              "       'COMERCIALIZAÇÃO 2020', 'TARJA'],\n",
              "      dtype='object')"
            ]
          },
          "metadata": {},
          "execution_count": 7
        }
      ]
    },
    {
      "cell_type": "markdown",
      "source": [
        "## **CONVERTER COLUNA DATA FRAME**\n",
        "Os recursos abaixo vieram do vídeo:\n",
        "https://www.youtube.com/watch?v=MVd1cs7TDgA&list=PL5TJqBvpXQv6SSsEgQrNwpOLTupXPuiMQ&index=1&t=80s\n",
        "\n",
        "Ao se tentar realizar cálculos matemáticos (Média, Porcentagem), retornava erro por causa das Colunas."
      ],
      "metadata": {
        "id": "7P4oEbk25ln2"
      }
    },
    {
      "cell_type": "markdown",
      "source": [
        "## **.info()**\n",
        "Mostra qual é o Dtype da Coluna"
      ],
      "metadata": {
        "id": "1of0d26K83Mu"
      }
    },
    {
      "cell_type": "code",
      "source": [
        "df.info()"
      ],
      "metadata": {
        "id": "XPrPMmYKDqEX",
        "outputId": "8c909235-4d13-4ae6-d85a-e94702916fbd",
        "colab": {
          "base_uri": "https://localhost:8080/"
        }
      },
      "execution_count": 10,
      "outputs": [
        {
          "output_type": "stream",
          "name": "stdout",
          "text": [
            "<class 'pandas.core.frame.DataFrame'>\n",
            "RangeIndex: 15117 entries, 0 to 15116\n",
            "Data columns (total 40 columns):\n",
            " #   Column                                                 Non-Null Count  Dtype  \n",
            "---  ------                                                 --------------  -----  \n",
            " 0   SUBSTÂNCIA                                             15117 non-null  object \n",
            " 1   CNPJ                                                   15116 non-null  object \n",
            " 2   LABORATÓRIO                                            15116 non-null  object \n",
            " 3   CÓDIGO GGREM                                           15116 non-null  float64\n",
            " 4   REGISTRO                                               15116 non-null  float64\n",
            " 5   EAN 1                                                  15116 non-null  object \n",
            " 6   EAN 2                                                  15116 non-null  object \n",
            " 7   EAN 3                                                  15116 non-null  object \n",
            " 8   PRODUTO                                                15116 non-null  object \n",
            " 9   APRESENTAÇÃO                                           15116 non-null  object \n",
            " 10  CLASSE TERAPÊUTICA                                     15116 non-null  object \n",
            " 11  TIPO DE PRODUTO (STATUS DO PRODUTO)                    15116 non-null  object \n",
            " 12  REGIME DE PREÇO                                        15116 non-null  object \n",
            " 13  PF Sem Impostos                                        15116 non-null  object \n",
            " 14  PF 0%                                                  15116 non-null  object \n",
            " 15  PF 12%                                                 14515 non-null  object \n",
            " 16  PF 17%                                                 14515 non-null  object \n",
            " 17  PF 17% ALC                                             14515 non-null  object \n",
            " 18  PF 17,5%                                               14515 non-null  object \n",
            " 19  PF 17,5% ALC                                           14515 non-null  object \n",
            " 20  PF 18%                                                 14515 non-null  object \n",
            " 21  PF 18% ALC                                             14515 non-null  object \n",
            " 22  PF 20%                                                 14515 non-null  object \n",
            " 23  PMC 0%                                                 12254 non-null  object \n",
            " 24  PMC 12%                                                12087 non-null  object \n",
            " 25  PMC 17%                                                12087 non-null  object \n",
            " 26  PMC 17% ALC                                            12087 non-null  object \n",
            " 27  PMC 17,5%                                              12087 non-null  object \n",
            " 28  PMC 17,5% ALC                                          12087 non-null  object \n",
            " 29  PMC 18%                                                12087 non-null  object \n",
            " 30  PMC 18% ALC                                            12087 non-null  object \n",
            " 31  PMC 20%                                                12087 non-null  object \n",
            " 32  RESTRIÇÃO HOSPITALAR                                   15116 non-null  object \n",
            " 33  CAP                                                    15116 non-null  object \n",
            " 34  CONFAZ 87                                              15116 non-null  object \n",
            " 35  ICMS 0%                                                15116 non-null  object \n",
            " 36  ANÁLISE RECURSAL                                       98 non-null     object \n",
            " 37  LISTA DE CONCESSÃO DE CRÉDITO TRIBUTÁRIO (PIS/COFINS)  15116 non-null  object \n",
            " 38  COMERCIALIZAÇÃO 2020                                   15116 non-null  object \n",
            " 39  TARJA                                                  15116 non-null  object \n",
            "dtypes: float64(2), object(38)\n",
            "memory usage: 4.6+ MB\n"
          ]
        }
      ]
    },
    {
      "cell_type": "markdown",
      "source": [
        "Ao se executar o **.mean**, numa coluna de valores, retorna erro."
      ],
      "metadata": {
        "id": "6ukevnh29MTy"
      }
    },
    {
      "cell_type": "code",
      "source": [
        "df[\"PF Sem Impostos\"].mean()"
      ],
      "metadata": {
        "id": "kgDLbqx_5T_R",
        "outputId": "6655ec1e-913f-447b-9ef6-a0b097f29107",
        "colab": {
          "base_uri": "https://localhost:8080/",
          "height": 342
        }
      },
      "execution_count": 12,
      "outputs": [
        {
          "output_type": "error",
          "ename": "TypeError",
          "evalue": "ignored",
          "traceback": [
            "\u001b[0;31m---------------------------------------------------------------------------\u001b[0m",
            "\u001b[0;31mTypeError\u001b[0m                                 Traceback (most recent call last)",
            "\u001b[0;32m<ipython-input-12-bade6374f241>\u001b[0m in \u001b[0;36m<module>\u001b[0;34m()\u001b[0m\n\u001b[0;32m----> 1\u001b[0;31m \u001b[0mdf\u001b[0m\u001b[0;34m[\u001b[0m\u001b[0;34m\"PF Sem Impostos\"\u001b[0m\u001b[0;34m]\u001b[0m\u001b[0;34m.\u001b[0m\u001b[0mmean\u001b[0m\u001b[0;34m(\u001b[0m\u001b[0;34m)\u001b[0m\u001b[0;34m\u001b[0m\u001b[0;34m\u001b[0m\u001b[0m\n\u001b[0m",
            "\u001b[0;32m/usr/local/lib/python3.7/dist-packages/pandas/core/generic.py\u001b[0m in \u001b[0;36mstat_func\u001b[0;34m(self, axis, skipna, level, numeric_only, **kwargs)\u001b[0m\n\u001b[1;32m  11473\u001b[0m             \u001b[0;32mreturn\u001b[0m \u001b[0mself\u001b[0m\u001b[0;34m.\u001b[0m\u001b[0m_agg_by_level\u001b[0m\u001b[0;34m(\u001b[0m\u001b[0mname\u001b[0m\u001b[0;34m,\u001b[0m \u001b[0maxis\u001b[0m\u001b[0;34m=\u001b[0m\u001b[0maxis\u001b[0m\u001b[0;34m,\u001b[0m \u001b[0mlevel\u001b[0m\u001b[0;34m=\u001b[0m\u001b[0mlevel\u001b[0m\u001b[0;34m,\u001b[0m \u001b[0mskipna\u001b[0m\u001b[0;34m=\u001b[0m\u001b[0mskipna\u001b[0m\u001b[0;34m)\u001b[0m\u001b[0;34m\u001b[0m\u001b[0;34m\u001b[0m\u001b[0m\n\u001b[1;32m  11474\u001b[0m         return self._reduce(\n\u001b[0;32m> 11475\u001b[0;31m             \u001b[0mfunc\u001b[0m\u001b[0;34m,\u001b[0m \u001b[0mname\u001b[0m\u001b[0;34m=\u001b[0m\u001b[0mname\u001b[0m\u001b[0;34m,\u001b[0m \u001b[0maxis\u001b[0m\u001b[0;34m=\u001b[0m\u001b[0maxis\u001b[0m\u001b[0;34m,\u001b[0m \u001b[0mskipna\u001b[0m\u001b[0;34m=\u001b[0m\u001b[0mskipna\u001b[0m\u001b[0;34m,\u001b[0m \u001b[0mnumeric_only\u001b[0m\u001b[0;34m=\u001b[0m\u001b[0mnumeric_only\u001b[0m\u001b[0;34m\u001b[0m\u001b[0;34m\u001b[0m\u001b[0m\n\u001b[0m\u001b[1;32m  11476\u001b[0m         )\n\u001b[1;32m  11477\u001b[0m \u001b[0;34m\u001b[0m\u001b[0m\n",
            "\u001b[0;32m/usr/local/lib/python3.7/dist-packages/pandas/core/series.py\u001b[0m in \u001b[0;36m_reduce\u001b[0;34m(self, op, name, axis, skipna, numeric_only, filter_type, **kwds)\u001b[0m\n\u001b[1;32m   4247\u001b[0m                 )\n\u001b[1;32m   4248\u001b[0m             \u001b[0;32mwith\u001b[0m \u001b[0mnp\u001b[0m\u001b[0;34m.\u001b[0m\u001b[0merrstate\u001b[0m\u001b[0;34m(\u001b[0m\u001b[0mall\u001b[0m\u001b[0;34m=\u001b[0m\u001b[0;34m\"ignore\"\u001b[0m\u001b[0;34m)\u001b[0m\u001b[0;34m:\u001b[0m\u001b[0;34m\u001b[0m\u001b[0;34m\u001b[0m\u001b[0m\n\u001b[0;32m-> 4249\u001b[0;31m                 \u001b[0;32mreturn\u001b[0m \u001b[0mop\u001b[0m\u001b[0;34m(\u001b[0m\u001b[0mdelegate\u001b[0m\u001b[0;34m,\u001b[0m \u001b[0mskipna\u001b[0m\u001b[0;34m=\u001b[0m\u001b[0mskipna\u001b[0m\u001b[0;34m,\u001b[0m \u001b[0;34m**\u001b[0m\u001b[0mkwds\u001b[0m\u001b[0;34m)\u001b[0m\u001b[0;34m\u001b[0m\u001b[0;34m\u001b[0m\u001b[0m\n\u001b[0m\u001b[1;32m   4250\u001b[0m \u001b[0;34m\u001b[0m\u001b[0m\n\u001b[1;32m   4251\u001b[0m     \u001b[0;32mdef\u001b[0m \u001b[0m_reindex_indexer\u001b[0m\u001b[0;34m(\u001b[0m\u001b[0mself\u001b[0m\u001b[0;34m,\u001b[0m \u001b[0mnew_index\u001b[0m\u001b[0;34m,\u001b[0m \u001b[0mindexer\u001b[0m\u001b[0;34m,\u001b[0m \u001b[0mcopy\u001b[0m\u001b[0;34m)\u001b[0m\u001b[0;34m:\u001b[0m\u001b[0;34m\u001b[0m\u001b[0;34m\u001b[0m\u001b[0m\n",
            "\u001b[0;32m/usr/local/lib/python3.7/dist-packages/pandas/core/nanops.py\u001b[0m in \u001b[0;36m_f\u001b[0;34m(*args, **kwargs)\u001b[0m\n\u001b[1;32m     69\u001b[0m             \u001b[0;32mtry\u001b[0m\u001b[0;34m:\u001b[0m\u001b[0;34m\u001b[0m\u001b[0;34m\u001b[0m\u001b[0m\n\u001b[1;32m     70\u001b[0m                 \u001b[0;32mwith\u001b[0m \u001b[0mnp\u001b[0m\u001b[0;34m.\u001b[0m\u001b[0merrstate\u001b[0m\u001b[0;34m(\u001b[0m\u001b[0minvalid\u001b[0m\u001b[0;34m=\u001b[0m\u001b[0;34m\"ignore\"\u001b[0m\u001b[0;34m)\u001b[0m\u001b[0;34m:\u001b[0m\u001b[0;34m\u001b[0m\u001b[0;34m\u001b[0m\u001b[0m\n\u001b[0;32m---> 71\u001b[0;31m                     \u001b[0;32mreturn\u001b[0m \u001b[0mf\u001b[0m\u001b[0;34m(\u001b[0m\u001b[0;34m*\u001b[0m\u001b[0margs\u001b[0m\u001b[0;34m,\u001b[0m \u001b[0;34m**\u001b[0m\u001b[0mkwargs\u001b[0m\u001b[0;34m)\u001b[0m\u001b[0;34m\u001b[0m\u001b[0;34m\u001b[0m\u001b[0m\n\u001b[0m\u001b[1;32m     72\u001b[0m             \u001b[0;32mexcept\u001b[0m \u001b[0mValueError\u001b[0m \u001b[0;32mas\u001b[0m \u001b[0me\u001b[0m\u001b[0;34m:\u001b[0m\u001b[0;34m\u001b[0m\u001b[0;34m\u001b[0m\u001b[0m\n\u001b[1;32m     73\u001b[0m                 \u001b[0;31m# we want to transform an object array\u001b[0m\u001b[0;34m\u001b[0m\u001b[0;34m\u001b[0m\u001b[0;34m\u001b[0m\u001b[0m\n",
            "\u001b[0;32m/usr/local/lib/python3.7/dist-packages/pandas/core/nanops.py\u001b[0m in \u001b[0;36mf\u001b[0;34m(values, axis, skipna, **kwds)\u001b[0m\n\u001b[1;32m    127\u001b[0m                     \u001b[0mresult\u001b[0m \u001b[0;34m=\u001b[0m \u001b[0malt\u001b[0m\u001b[0;34m(\u001b[0m\u001b[0mvalues\u001b[0m\u001b[0;34m,\u001b[0m \u001b[0maxis\u001b[0m\u001b[0;34m=\u001b[0m\u001b[0maxis\u001b[0m\u001b[0;34m,\u001b[0m \u001b[0mskipna\u001b[0m\u001b[0;34m=\u001b[0m\u001b[0mskipna\u001b[0m\u001b[0;34m,\u001b[0m \u001b[0;34m**\u001b[0m\u001b[0mkwds\u001b[0m\u001b[0;34m)\u001b[0m\u001b[0;34m\u001b[0m\u001b[0;34m\u001b[0m\u001b[0m\n\u001b[1;32m    128\u001b[0m             \u001b[0;32melse\u001b[0m\u001b[0;34m:\u001b[0m\u001b[0;34m\u001b[0m\u001b[0;34m\u001b[0m\u001b[0m\n\u001b[0;32m--> 129\u001b[0;31m                 \u001b[0mresult\u001b[0m \u001b[0;34m=\u001b[0m \u001b[0malt\u001b[0m\u001b[0;34m(\u001b[0m\u001b[0mvalues\u001b[0m\u001b[0;34m,\u001b[0m \u001b[0maxis\u001b[0m\u001b[0;34m=\u001b[0m\u001b[0maxis\u001b[0m\u001b[0;34m,\u001b[0m \u001b[0mskipna\u001b[0m\u001b[0;34m=\u001b[0m\u001b[0mskipna\u001b[0m\u001b[0;34m,\u001b[0m \u001b[0;34m**\u001b[0m\u001b[0mkwds\u001b[0m\u001b[0;34m)\u001b[0m\u001b[0;34m\u001b[0m\u001b[0;34m\u001b[0m\u001b[0m\n\u001b[0m\u001b[1;32m    130\u001b[0m \u001b[0;34m\u001b[0m\u001b[0m\n\u001b[1;32m    131\u001b[0m             \u001b[0;32mreturn\u001b[0m \u001b[0mresult\u001b[0m\u001b[0;34m\u001b[0m\u001b[0;34m\u001b[0m\u001b[0m\n",
            "\u001b[0;32m/usr/local/lib/python3.7/dist-packages/pandas/core/nanops.py\u001b[0m in \u001b[0;36mnanmean\u001b[0;34m(values, axis, skipna, mask)\u001b[0m\n\u001b[1;32m    561\u001b[0m         \u001b[0mdtype_count\u001b[0m \u001b[0;34m=\u001b[0m \u001b[0mdtype\u001b[0m\u001b[0;34m\u001b[0m\u001b[0;34m\u001b[0m\u001b[0m\n\u001b[1;32m    562\u001b[0m     \u001b[0mcount\u001b[0m \u001b[0;34m=\u001b[0m \u001b[0m_get_counts\u001b[0m\u001b[0;34m(\u001b[0m\u001b[0mvalues\u001b[0m\u001b[0;34m.\u001b[0m\u001b[0mshape\u001b[0m\u001b[0;34m,\u001b[0m \u001b[0mmask\u001b[0m\u001b[0;34m,\u001b[0m \u001b[0maxis\u001b[0m\u001b[0;34m,\u001b[0m \u001b[0mdtype\u001b[0m\u001b[0;34m=\u001b[0m\u001b[0mdtype_count\u001b[0m\u001b[0;34m)\u001b[0m\u001b[0;34m\u001b[0m\u001b[0;34m\u001b[0m\u001b[0m\n\u001b[0;32m--> 563\u001b[0;31m     \u001b[0mthe_sum\u001b[0m \u001b[0;34m=\u001b[0m \u001b[0m_ensure_numeric\u001b[0m\u001b[0;34m(\u001b[0m\u001b[0mvalues\u001b[0m\u001b[0;34m.\u001b[0m\u001b[0msum\u001b[0m\u001b[0;34m(\u001b[0m\u001b[0maxis\u001b[0m\u001b[0;34m,\u001b[0m \u001b[0mdtype\u001b[0m\u001b[0;34m=\u001b[0m\u001b[0mdtype_sum\u001b[0m\u001b[0;34m)\u001b[0m\u001b[0;34m)\u001b[0m\u001b[0;34m\u001b[0m\u001b[0;34m\u001b[0m\u001b[0m\n\u001b[0m\u001b[1;32m    564\u001b[0m \u001b[0;34m\u001b[0m\u001b[0m\n\u001b[1;32m    565\u001b[0m     \u001b[0;32mif\u001b[0m \u001b[0maxis\u001b[0m \u001b[0;32mis\u001b[0m \u001b[0;32mnot\u001b[0m \u001b[0;32mNone\u001b[0m \u001b[0;32mand\u001b[0m \u001b[0mgetattr\u001b[0m\u001b[0;34m(\u001b[0m\u001b[0mthe_sum\u001b[0m\u001b[0;34m,\u001b[0m \u001b[0;34m\"ndim\"\u001b[0m\u001b[0;34m,\u001b[0m \u001b[0;32mFalse\u001b[0m\u001b[0;34m)\u001b[0m\u001b[0;34m:\u001b[0m\u001b[0;34m\u001b[0m\u001b[0;34m\u001b[0m\u001b[0m\n",
            "\u001b[0;32m/usr/local/lib/python3.7/dist-packages/numpy/core/_methods.py\u001b[0m in \u001b[0;36m_sum\u001b[0;34m(a, axis, dtype, out, keepdims, initial, where)\u001b[0m\n\u001b[1;32m     45\u001b[0m def _sum(a, axis=None, dtype=None, out=None, keepdims=False,\n\u001b[1;32m     46\u001b[0m          initial=_NoValue, where=True):\n\u001b[0;32m---> 47\u001b[0;31m     \u001b[0;32mreturn\u001b[0m \u001b[0mumr_sum\u001b[0m\u001b[0;34m(\u001b[0m\u001b[0ma\u001b[0m\u001b[0;34m,\u001b[0m \u001b[0maxis\u001b[0m\u001b[0;34m,\u001b[0m \u001b[0mdtype\u001b[0m\u001b[0;34m,\u001b[0m \u001b[0mout\u001b[0m\u001b[0;34m,\u001b[0m \u001b[0mkeepdims\u001b[0m\u001b[0;34m,\u001b[0m \u001b[0minitial\u001b[0m\u001b[0;34m,\u001b[0m \u001b[0mwhere\u001b[0m\u001b[0;34m)\u001b[0m\u001b[0;34m\u001b[0m\u001b[0;34m\u001b[0m\u001b[0m\n\u001b[0m\u001b[1;32m     48\u001b[0m \u001b[0;34m\u001b[0m\u001b[0m\n\u001b[1;32m     49\u001b[0m def _prod(a, axis=None, dtype=None, out=None, keepdims=False,\n",
            "\u001b[0;31mTypeError\u001b[0m: can only concatenate str (not \"int\") to str"
          ]
        }
      ]
    },
    {
      "cell_type": "markdown",
      "source": [
        "Necessário executar o **.astype(float64)**, para converter a coluna em formato float."
      ],
      "metadata": {
        "id": "Xky90ns79ZPe"
      }
    },
    {
      "cell_type": "code",
      "source": [
        "df[\"PF Sem Impostos\"].astype(\"float64\")"
      ],
      "metadata": {
        "id": "lB0G79uK6Pa-",
        "outputId": "06ce0de0-453b-40d3-c86c-901551e48736",
        "colab": {
          "base_uri": "https://localhost:8080/",
          "height": 342
        }
      },
      "execution_count": 15,
      "outputs": [
        {
          "output_type": "error",
          "ename": "ValueError",
          "evalue": "ignored",
          "traceback": [
            "\u001b[0;31m---------------------------------------------------------------------------\u001b[0m",
            "\u001b[0;31mValueError\u001b[0m                                Traceback (most recent call last)",
            "\u001b[0;32m<ipython-input-15-219e5eda582a>\u001b[0m in \u001b[0;36m<module>\u001b[0;34m()\u001b[0m\n\u001b[0;32m----> 1\u001b[0;31m \u001b[0mdf\u001b[0m\u001b[0;34m[\u001b[0m\u001b[0;34m\"PF Sem Impostos\"\u001b[0m\u001b[0;34m]\u001b[0m\u001b[0;34m.\u001b[0m\u001b[0mastype\u001b[0m\u001b[0;34m(\u001b[0m\u001b[0;34m\"float64\"\u001b[0m\u001b[0;34m)\u001b[0m\u001b[0;34m\u001b[0m\u001b[0;34m\u001b[0m\u001b[0m\n\u001b[0m",
            "\u001b[0;32m/usr/local/lib/python3.7/dist-packages/pandas/core/generic.py\u001b[0m in \u001b[0;36mastype\u001b[0;34m(self, dtype, copy, errors)\u001b[0m\n\u001b[1;32m   5546\u001b[0m         \u001b[0;32melse\u001b[0m\u001b[0;34m:\u001b[0m\u001b[0;34m\u001b[0m\u001b[0;34m\u001b[0m\u001b[0m\n\u001b[1;32m   5547\u001b[0m             \u001b[0;31m# else, only a single dtype is given\u001b[0m\u001b[0;34m\u001b[0m\u001b[0;34m\u001b[0m\u001b[0;34m\u001b[0m\u001b[0m\n\u001b[0;32m-> 5548\u001b[0;31m             \u001b[0mnew_data\u001b[0m \u001b[0;34m=\u001b[0m \u001b[0mself\u001b[0m\u001b[0;34m.\u001b[0m\u001b[0m_mgr\u001b[0m\u001b[0;34m.\u001b[0m\u001b[0mastype\u001b[0m\u001b[0;34m(\u001b[0m\u001b[0mdtype\u001b[0m\u001b[0;34m=\u001b[0m\u001b[0mdtype\u001b[0m\u001b[0;34m,\u001b[0m \u001b[0mcopy\u001b[0m\u001b[0;34m=\u001b[0m\u001b[0mcopy\u001b[0m\u001b[0;34m,\u001b[0m \u001b[0merrors\u001b[0m\u001b[0;34m=\u001b[0m\u001b[0merrors\u001b[0m\u001b[0;34m,\u001b[0m\u001b[0;34m)\u001b[0m\u001b[0;34m\u001b[0m\u001b[0;34m\u001b[0m\u001b[0m\n\u001b[0m\u001b[1;32m   5549\u001b[0m             \u001b[0;32mreturn\u001b[0m \u001b[0mself\u001b[0m\u001b[0;34m.\u001b[0m\u001b[0m_constructor\u001b[0m\u001b[0;34m(\u001b[0m\u001b[0mnew_data\u001b[0m\u001b[0;34m)\u001b[0m\u001b[0;34m.\u001b[0m\u001b[0m__finalize__\u001b[0m\u001b[0;34m(\u001b[0m\u001b[0mself\u001b[0m\u001b[0;34m,\u001b[0m \u001b[0mmethod\u001b[0m\u001b[0;34m=\u001b[0m\u001b[0;34m\"astype\"\u001b[0m\u001b[0;34m)\u001b[0m\u001b[0;34m\u001b[0m\u001b[0;34m\u001b[0m\u001b[0m\n\u001b[1;32m   5550\u001b[0m \u001b[0;34m\u001b[0m\u001b[0m\n",
            "\u001b[0;32m/usr/local/lib/python3.7/dist-packages/pandas/core/internals/managers.py\u001b[0m in \u001b[0;36mastype\u001b[0;34m(self, dtype, copy, errors)\u001b[0m\n\u001b[1;32m    602\u001b[0m         \u001b[0mself\u001b[0m\u001b[0;34m,\u001b[0m \u001b[0mdtype\u001b[0m\u001b[0;34m,\u001b[0m \u001b[0mcopy\u001b[0m\u001b[0;34m:\u001b[0m \u001b[0mbool\u001b[0m \u001b[0;34m=\u001b[0m \u001b[0;32mFalse\u001b[0m\u001b[0;34m,\u001b[0m \u001b[0merrors\u001b[0m\u001b[0;34m:\u001b[0m \u001b[0mstr\u001b[0m \u001b[0;34m=\u001b[0m \u001b[0;34m\"raise\"\u001b[0m\u001b[0;34m\u001b[0m\u001b[0;34m\u001b[0m\u001b[0m\n\u001b[1;32m    603\u001b[0m     ) -> \"BlockManager\":\n\u001b[0;32m--> 604\u001b[0;31m         \u001b[0;32mreturn\u001b[0m \u001b[0mself\u001b[0m\u001b[0;34m.\u001b[0m\u001b[0mapply\u001b[0m\u001b[0;34m(\u001b[0m\u001b[0;34m\"astype\"\u001b[0m\u001b[0;34m,\u001b[0m \u001b[0mdtype\u001b[0m\u001b[0;34m=\u001b[0m\u001b[0mdtype\u001b[0m\u001b[0;34m,\u001b[0m \u001b[0mcopy\u001b[0m\u001b[0;34m=\u001b[0m\u001b[0mcopy\u001b[0m\u001b[0;34m,\u001b[0m \u001b[0merrors\u001b[0m\u001b[0;34m=\u001b[0m\u001b[0merrors\u001b[0m\u001b[0;34m)\u001b[0m\u001b[0;34m\u001b[0m\u001b[0;34m\u001b[0m\u001b[0m\n\u001b[0m\u001b[1;32m    605\u001b[0m \u001b[0;34m\u001b[0m\u001b[0m\n\u001b[1;32m    606\u001b[0m     def convert(\n",
            "\u001b[0;32m/usr/local/lib/python3.7/dist-packages/pandas/core/internals/managers.py\u001b[0m in \u001b[0;36mapply\u001b[0;34m(self, f, align_keys, **kwargs)\u001b[0m\n\u001b[1;32m    407\u001b[0m                 \u001b[0mapplied\u001b[0m \u001b[0;34m=\u001b[0m \u001b[0mb\u001b[0m\u001b[0;34m.\u001b[0m\u001b[0mapply\u001b[0m\u001b[0;34m(\u001b[0m\u001b[0mf\u001b[0m\u001b[0;34m,\u001b[0m \u001b[0;34m**\u001b[0m\u001b[0mkwargs\u001b[0m\u001b[0;34m)\u001b[0m\u001b[0;34m\u001b[0m\u001b[0;34m\u001b[0m\u001b[0m\n\u001b[1;32m    408\u001b[0m             \u001b[0;32melse\u001b[0m\u001b[0;34m:\u001b[0m\u001b[0;34m\u001b[0m\u001b[0;34m\u001b[0m\u001b[0m\n\u001b[0;32m--> 409\u001b[0;31m                 \u001b[0mapplied\u001b[0m \u001b[0;34m=\u001b[0m \u001b[0mgetattr\u001b[0m\u001b[0;34m(\u001b[0m\u001b[0mb\u001b[0m\u001b[0;34m,\u001b[0m \u001b[0mf\u001b[0m\u001b[0;34m)\u001b[0m\u001b[0;34m(\u001b[0m\u001b[0;34m**\u001b[0m\u001b[0mkwargs\u001b[0m\u001b[0;34m)\u001b[0m\u001b[0;34m\u001b[0m\u001b[0;34m\u001b[0m\u001b[0m\n\u001b[0m\u001b[1;32m    410\u001b[0m             \u001b[0mresult_blocks\u001b[0m \u001b[0;34m=\u001b[0m \u001b[0m_extend_blocks\u001b[0m\u001b[0;34m(\u001b[0m\u001b[0mapplied\u001b[0m\u001b[0;34m,\u001b[0m \u001b[0mresult_blocks\u001b[0m\u001b[0;34m)\u001b[0m\u001b[0;34m\u001b[0m\u001b[0;34m\u001b[0m\u001b[0m\n\u001b[1;32m    411\u001b[0m \u001b[0;34m\u001b[0m\u001b[0m\n",
            "\u001b[0;32m/usr/local/lib/python3.7/dist-packages/pandas/core/internals/blocks.py\u001b[0m in \u001b[0;36mastype\u001b[0;34m(self, dtype, copy, errors)\u001b[0m\n\u001b[1;32m    593\u001b[0m             \u001b[0mvals1d\u001b[0m \u001b[0;34m=\u001b[0m \u001b[0mvalues\u001b[0m\u001b[0;34m.\u001b[0m\u001b[0mravel\u001b[0m\u001b[0;34m(\u001b[0m\u001b[0;34m)\u001b[0m\u001b[0;34m\u001b[0m\u001b[0;34m\u001b[0m\u001b[0m\n\u001b[1;32m    594\u001b[0m             \u001b[0;32mtry\u001b[0m\u001b[0;34m:\u001b[0m\u001b[0;34m\u001b[0m\u001b[0;34m\u001b[0m\u001b[0m\n\u001b[0;32m--> 595\u001b[0;31m                 \u001b[0mvalues\u001b[0m \u001b[0;34m=\u001b[0m \u001b[0mastype_nansafe\u001b[0m\u001b[0;34m(\u001b[0m\u001b[0mvals1d\u001b[0m\u001b[0;34m,\u001b[0m \u001b[0mdtype\u001b[0m\u001b[0;34m,\u001b[0m \u001b[0mcopy\u001b[0m\u001b[0;34m=\u001b[0m\u001b[0;32mTrue\u001b[0m\u001b[0;34m)\u001b[0m\u001b[0;34m\u001b[0m\u001b[0;34m\u001b[0m\u001b[0m\n\u001b[0m\u001b[1;32m    596\u001b[0m             \u001b[0;32mexcept\u001b[0m \u001b[0;34m(\u001b[0m\u001b[0mValueError\u001b[0m\u001b[0;34m,\u001b[0m \u001b[0mTypeError\u001b[0m\u001b[0;34m)\u001b[0m\u001b[0;34m:\u001b[0m\u001b[0;34m\u001b[0m\u001b[0;34m\u001b[0m\u001b[0m\n\u001b[1;32m    597\u001b[0m                 \u001b[0;31m# e.g. astype_nansafe can fail on object-dtype of strings\u001b[0m\u001b[0;34m\u001b[0m\u001b[0;34m\u001b[0m\u001b[0;34m\u001b[0m\u001b[0m\n",
            "\u001b[0;32m/usr/local/lib/python3.7/dist-packages/pandas/core/dtypes/cast.py\u001b[0m in \u001b[0;36mastype_nansafe\u001b[0;34m(arr, dtype, copy, skipna)\u001b[0m\n\u001b[1;32m    995\u001b[0m     \u001b[0;32mif\u001b[0m \u001b[0mcopy\u001b[0m \u001b[0;32mor\u001b[0m \u001b[0mis_object_dtype\u001b[0m\u001b[0;34m(\u001b[0m\u001b[0marr\u001b[0m\u001b[0;34m)\u001b[0m \u001b[0;32mor\u001b[0m \u001b[0mis_object_dtype\u001b[0m\u001b[0;34m(\u001b[0m\u001b[0mdtype\u001b[0m\u001b[0;34m)\u001b[0m\u001b[0;34m:\u001b[0m\u001b[0;34m\u001b[0m\u001b[0;34m\u001b[0m\u001b[0m\n\u001b[1;32m    996\u001b[0m         \u001b[0;31m# Explicit copy, or required since NumPy can't view from / to object.\u001b[0m\u001b[0;34m\u001b[0m\u001b[0;34m\u001b[0m\u001b[0;34m\u001b[0m\u001b[0m\n\u001b[0;32m--> 997\u001b[0;31m         \u001b[0;32mreturn\u001b[0m \u001b[0marr\u001b[0m\u001b[0;34m.\u001b[0m\u001b[0mastype\u001b[0m\u001b[0;34m(\u001b[0m\u001b[0mdtype\u001b[0m\u001b[0;34m,\u001b[0m \u001b[0mcopy\u001b[0m\u001b[0;34m=\u001b[0m\u001b[0;32mTrue\u001b[0m\u001b[0;34m)\u001b[0m\u001b[0;34m\u001b[0m\u001b[0;34m\u001b[0m\u001b[0m\n\u001b[0m\u001b[1;32m    998\u001b[0m \u001b[0;34m\u001b[0m\u001b[0m\n\u001b[1;32m    999\u001b[0m     \u001b[0;32mreturn\u001b[0m \u001b[0marr\u001b[0m\u001b[0;34m.\u001b[0m\u001b[0mview\u001b[0m\u001b[0;34m(\u001b[0m\u001b[0mdtype\u001b[0m\u001b[0;34m)\u001b[0m\u001b[0;34m\u001b[0m\u001b[0;34m\u001b[0m\u001b[0m\n",
            "\u001b[0;31mValueError\u001b[0m: could not convert string to float: '5,04'"
          ]
        }
      ]
    },
    {
      "cell_type": "markdown",
      "source": [
        "Como o formato da coluna acompanha o formato americano com **\",\"**, precisamos converter o **\",\"** para **\".\"**, como mostra o comando abaixo."
      ],
      "metadata": {
        "id": "rmQxtTvI9tqi"
      }
    },
    {
      "cell_type": "code",
      "source": [
        "df[\"PF Sem Impostos\"] = df[\"PF Sem Impostos\"].apply(lambda x: str(x).replace(\",\", \".\"))"
      ],
      "metadata": {
        "id": "WGEoKmHM6oa1"
      },
      "execution_count": 16,
      "outputs": []
    },
    {
      "cell_type": "markdown",
      "source": [
        "Agora sim, verificamos que os dados estão convertidos."
      ],
      "metadata": {
        "id": "scS5koin-Au-"
      }
    },
    {
      "cell_type": "code",
      "source": [
        "df[\"PF Sem Impostos\"]"
      ],
      "metadata": {
        "id": "I1svlBWR6-4u",
        "outputId": "f57cbd48-594f-4129-de82-bf90f2d83ff2",
        "colab": {
          "base_uri": "https://localhost:8080/"
        }
      },
      "execution_count": 17,
      "outputs": [
        {
          "output_type": "execute_result",
          "data": {
            "text/plain": [
              "0         5.04\n",
              "1        96.83\n",
              "2        43.76\n",
              "3        28.74\n",
              "4        44.67\n",
              "         ...  \n",
              "15112    44.59\n",
              "15113    35.46\n",
              "15114    54.21\n",
              "15115    82.53\n",
              "15116      nan\n",
              "Name: PF Sem Impostos, Length: 15117, dtype: object"
            ]
          },
          "metadata": {},
          "execution_count": 17
        }
      ]
    },
    {
      "cell_type": "markdown",
      "source": [
        "Podemos executar agora o .astype(float64), para converter a coluna em formato float."
      ],
      "metadata": {
        "id": "eY37HThy-PnD"
      }
    },
    {
      "cell_type": "code",
      "source": [
        "df[\"PF Sem Impostos\"] = df[\"PF Sem Impostos\"].astype(\"float64\")"
      ],
      "metadata": {
        "id": "nkyIa7jd7KHL"
      },
      "execution_count": 19,
      "outputs": []
    },
    {
      "cell_type": "markdown",
      "source": [
        "Ao realizarmos o método **(.mean)**, conseguimos executar o cálculo, porque a coluna está no formato float."
      ],
      "metadata": {
        "id": "WnaXSstJ-UHy"
      }
    },
    {
      "cell_type": "code",
      "source": [
        "df['PF Sem Impostos'].mean()"
      ],
      "metadata": {
        "id": "L4Xd3lI37bXq",
        "outputId": "4aff03c2-dce7-4422-805d-ebd0c65cde88",
        "colab": {
          "base_uri": "https://localhost:8080/"
        }
      },
      "execution_count": 21,
      "outputs": [
        {
          "output_type": "execute_result",
          "data": {
            "text/plain": [
              "4523.1109016935925"
            ]
          },
          "metadata": {},
          "execution_count": 21
        }
      ]
    },
    {
      "cell_type": "code",
      "source": [
        "df[\"PF Sem Impostos\"].plot()"
      ],
      "metadata": {
        "id": "eKNNuvdo7rZ2",
        "outputId": "ba6bf08d-e9a5-43b5-a563-c3fef00be5fd",
        "colab": {
          "base_uri": "https://localhost:8080/",
          "height": 295
        }
      },
      "execution_count": 24,
      "outputs": [
        {
          "output_type": "execute_result",
          "data": {
            "text/plain": [
              "<matplotlib.axes._subplots.AxesSubplot at 0x7fdd3240d050>"
            ]
          },
          "metadata": {},
          "execution_count": 24
        },
        {
          "output_type": "display_data",
          "data": {
            "image/png": "[encoded data removed]",
            "text/plain": [
              "<Figure size 432x288 with 1 Axes>"
            ]
          },
          "metadata": {
            "needs_background": "light"
          }
        }
      ]
    }
  ]
}